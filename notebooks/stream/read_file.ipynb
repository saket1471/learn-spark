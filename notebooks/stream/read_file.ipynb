{
 "cells": [
  {
   "cell_type": "code",
   "execution_count": 1,
   "id": "6385b96a-f43c-4122-8b24-f0ac50e46e74",
   "metadata": {},
   "outputs": [],
   "source": [
    "file_content=\"\"\"\n",
    "col_int|col_string|col_double|col_float|col_date|col_datetime|col_time\n",
    "1|test|1.123|1.001|2022-02-02|2022-02-02 01:01:01|01:01:01\n",
    "\"\"\"\n"
   ]
  },
  {
   "cell_type": "code",
   "execution_count": 4,
   "id": "c308366e-3af3-4574-9e60-4a8a006e12b6",
   "metadata": {},
   "outputs": [
    {
     "data": {
      "text/plain": [
       "'\\ncol_int|col_string|col_double|col_float|col_date|col_datetime|col_time\\n1|test|1.123|1.001|2022-02-02|2022-02-02 01:01:01|01:01:01\\n'"
      ]
     },
     "execution_count": 4,
     "metadata": {},
     "output_type": "execute_result"
    }
   ],
   "source": [
    "file_content"
   ]
  },
  {
   "cell_type": "code",
   "execution_count": 5,
   "id": "f4d8a776-a923-4d95-9f49-7dff06195980",
   "metadata": {},
   "outputs": [
    {
     "name": "stdout",
     "output_type": "stream",
     "text": [
      "\n",
      "col_int|col_string|col_double|col_float|col_date|col_datetime|col_time\n",
      "1|test|1.123|1.001|2022-02-02|2022-02-02 01:01:01|01:01:01\n",
      "\n"
     ]
    }
   ],
   "source": [
    "print(file_content)"
   ]
  },
  {
   "cell_type": "markdown",
   "id": "39d3a7e9-0aec-4625-951d-5b889449d24a",
   "metadata": {},
   "source": [
    "# Read INT scenarios"
   ]
  },
  {
   "cell_type": "code",
   "execution_count": 6,
   "id": "7649fdb4-0a72-4dbd-aff9-9eeda92f51f8",
   "metadata": {},
   "outputs": [],
   "source": [
    "scenario_read_file_int = {\n",
    "    1:  \"\"\"col_int\n",
    "1\"\"\",\n",
    "    2 :\"\"\"col_int\n",
    "\"\"\",\n",
    "    3: \"\"\"col_int\n",
    "10000000000000000000000\"\"\",\n",
    "    4: \"\"\"col_int\n",
    "1000000000000000000000000000000000000\"\"\"\n",
    "    \n",
    "}"
   ]
  },
  {
   "cell_type": "code",
   "execution_count": 7,
   "id": "2d0d6307-4063-4c39-9397-a15ee48379f8",
   "metadata": {},
   "outputs": [
    {
     "data": {
      "text/plain": [
       "{1: 'col_int\\n1',\n",
       " 2: 'col_int\\n',\n",
       " 3: 'col_int\\n10000000000000000000000',\n",
       " 4: 'col_int\\n1000000000000000000000000000000000000'}"
      ]
     },
     "execution_count": 7,
     "metadata": {},
     "output_type": "execute_result"
    }
   ],
   "source": [
    "scenario_read_file_int"
   ]
  },
  {
   "cell_type": "code",
   "execution_count": 9,
   "id": "f6dbb734-3ce7-4430-8d16-af2caa96fa76",
   "metadata": {},
   "outputs": [
    {
     "name": "stdout",
     "output_type": "stream",
     "text": [
      "/home/saket/notebooks/stream\n"
     ]
    }
   ],
   "source": [
    "!pwd"
   ]
  },
  {
   "cell_type": "code",
   "execution_count": 11,
   "id": "b7b7e819-60b8-4c7f-986a-1dd0aeb294d2",
   "metadata": {},
   "outputs": [
    {
     "ename": "AttributeError",
     "evalue": "'int' object has no attribute 'close'",
     "output_type": "error",
     "traceback": [
      "\u001b[0;31m---------------------------------------------------------------------------\u001b[0m",
      "\u001b[0;31mAttributeError\u001b[0m                            Traceback (most recent call last)",
      "\u001b[0;32m/tmp/ipykernel_18747/3058820152.py\u001b[0m in \u001b[0;36m<module>\u001b[0;34m\u001b[0m\n\u001b[0;32m----> 1\u001b[0;31m \u001b[0mopen\u001b[0m\u001b[0;34m(\u001b[0m\u001b[0;34m'test'\u001b[0m\u001b[0;34m,\u001b[0m \u001b[0;34m'w'\u001b[0m\u001b[0;34m)\u001b[0m\u001b[0;34m.\u001b[0m\u001b[0mwrite\u001b[0m\u001b[0;34m(\u001b[0m\u001b[0;34m'test'\u001b[0m\u001b[0;34m)\u001b[0m\u001b[0;34m.\u001b[0m\u001b[0mclose\u001b[0m\u001b[0;34m(\u001b[0m\u001b[0;34m)\u001b[0m\u001b[0;34m\u001b[0m\u001b[0;34m\u001b[0m\u001b[0m\n\u001b[0m",
      "\u001b[0;31mAttributeError\u001b[0m: 'int' object has no attribute 'close'"
     ]
    }
   ],
   "source": [
    "open('test', 'w').write('test').close()"
   ]
  },
  {
   "cell_type": "code",
   "execution_count": null,
   "id": "21a5c440-e68b-43dc-8e53-0180bb81e705",
   "metadata": {},
   "outputs": [],
   "source": []
  },
  {
   "cell_type": "code",
   "execution_count": null,
   "id": "b5e4ec98-7703-4511-a22a-e17fbfe67f39",
   "metadata": {},
   "outputs": [],
   "source": []
  },
  {
   "cell_type": "code",
   "execution_count": null,
   "id": "d750fcb1-f0a2-48c2-bd24-34ea3a2e5fac",
   "metadata": {},
   "outputs": [],
   "source": []
  },
  {
   "cell_type": "code",
   "execution_count": 8,
   "id": "2f15b9ef-f0ec-42b9-82af-8ca13f4ea0b0",
   "metadata": {},
   "outputs": [],
   "source": [
    "import os"
   ]
  },
  {
   "cell_type": "code",
   "execution_count": null,
   "id": "a2a05dbf-605b-4144-83af-6e7d05ff84b7",
   "metadata": {},
   "outputs": [],
   "source": [
    "def create_sample_files(path, name_prefix, dict_file_text):\n",
    "    for k,v in dict_file_text.items():\n",
    "        file_name = f'{name_prefix}_{k}.csv'\n",
    "        file_path = os.path.join(path, file_name)\n",
    "        open(file_path).write(v).close()\n",
    "        print(f'Generated Scenario - {k} file: {}')"
   ]
  }
 ],
 "metadata": {
  "kernelspec": {
   "display_name": "Python 3 (ipykernel)",
   "language": "python",
   "name": "python3"
  },
  "language_info": {
   "codemirror_mode": {
    "name": "ipython",
    "version": 3
   },
   "file_extension": ".py",
   "mimetype": "text/x-python",
   "name": "python",
   "nbconvert_exporter": "python",
   "pygments_lexer": "ipython3",
   "version": "3.9.7"
  }
 },
 "nbformat": 4,
 "nbformat_minor": 5
}
